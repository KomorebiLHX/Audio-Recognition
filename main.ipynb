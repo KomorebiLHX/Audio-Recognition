{
 "cells": [
  {
   "cell_type": "code",
   "execution_count": 1,
   "metadata": {},
   "outputs": [],
   "source": [
    "import torch\n",
    "from dataset import AudioTrainDataset, AudioTestDataset\n",
    "from torch.utils.data import DataLoader\n",
    "from model import NN \n",
    "from config import Train_config\n",
    "import numpy as np\n",
    "import pandas as pd\n",
    "import random\n",
    "from tqdm import tqdm\n",
    "from sklearn.metrics import confusion_matrix, accuracy_score, precision_score, recall_score, f1_score\n",
    "\n",
    "random.seed(2021)"
   ]
  },
  {
   "cell_type": "code",
   "execution_count": 2,
   "metadata": {},
   "outputs": [],
   "source": [
    "config = Train_config()"
   ]
  },
  {
   "cell_type": "code",
   "execution_count": 3,
   "metadata": {},
   "outputs": [],
   "source": [
    "index = [i for i in range(2000)]\n",
    "random.shuffle(index)\n",
    "train_index = index[:1800]\n",
    "test_index =  index[1800:]"
   ]
  },
  {
   "cell_type": "code",
   "execution_count": 4,
   "metadata": {},
   "outputs": [],
   "source": [
    "train = AudioTrainDataset(config.train_data_dir, train_index)\n",
    "test = AudioTrainDataset(config.train_data_dir, test_index)"
   ]
  },
  {
   "cell_type": "code",
   "execution_count": 5,
   "metadata": {},
   "outputs": [],
   "source": [
    "trainloader = DataLoader(train, batch_size = config.train_batch_size, shuffle = True)\n",
    "testloader = DataLoader(test, batch_size = config.test_batch_size, shuffle = False)"
   ]
  },
  {
   "cell_type": "code",
   "execution_count": 6,
   "metadata": {},
   "outputs": [],
   "source": [
    "device = torch.device(config.device)"
   ]
  },
  {
   "cell_type": "code",
   "execution_count": 7,
   "metadata": {},
   "outputs": [],
   "source": [
    "model = NN().to(device)"
   ]
  },
  {
   "cell_type": "code",
   "execution_count": 8,
   "metadata": {},
   "outputs": [],
   "source": [
    "criterion = torch.nn.CrossEntropyLoss()\n",
    "optimizer = torch.optim.Adam(model.parameters(),lr = config.lr)"
   ]
  },
  {
   "cell_type": "code",
   "execution_count": 9,
   "metadata": {},
   "outputs": [
    {
     "name": "stderr",
     "output_type": "stream",
     "text": [
      "100%|██████████| 57/57 [00:09<00:00,  5.99it/s]\n",
      "  2%|▏         | 1/57 [00:00<00:08,  6.78it/s]"
     ]
    },
    {
     "name": "stdout",
     "output_type": "stream",
     "text": [
      "Epoch 1, train loss is 0.6193, train acc is 0.6946, test loss is 0.5733, test acc is 0.7400,\n",
      "test precision is 0.7400, test recall is 1.0000, test f1 is 0.8506.\n"
     ]
    },
    {
     "name": "stderr",
     "output_type": "stream",
     "text": [
      "100%|██████████| 57/57 [00:09<00:00,  5.82it/s]\n",
      "  2%|▏         | 1/57 [00:00<00:10,  5.57it/s]"
     ]
    },
    {
     "name": "stdout",
     "output_type": "stream",
     "text": [
      "Epoch 2, train loss is 0.6137, train acc is 0.6996, test loss is 0.5733, test acc is 0.7400,\n",
      "test precision is 0.7400, test recall is 1.0000, test f1 is 0.8506.\n"
     ]
    },
    {
     "name": "stderr",
     "output_type": "stream",
     "text": [
      "100%|██████████| 57/57 [00:08<00:00,  6.59it/s]\n",
      "  2%|▏         | 1/57 [00:00<00:10,  5.14it/s]"
     ]
    },
    {
     "name": "stdout",
     "output_type": "stream",
     "text": [
      "Epoch 3, train loss is 0.6186, train acc is 0.6946, test loss is 0.5733, test acc is 0.7400,\n",
      "test precision is 0.7400, test recall is 1.0000, test f1 is 0.8506.\n"
     ]
    },
    {
     "name": "stderr",
     "output_type": "stream",
     "text": [
      "100%|██████████| 57/57 [00:08<00:00,  6.60it/s]\n",
      "  2%|▏         | 1/57 [00:00<00:08,  6.43it/s]"
     ]
    },
    {
     "name": "stdout",
     "output_type": "stream",
     "text": [
      "Epoch 4, train loss is 0.6153, train acc is 0.6979, test loss is 0.5733, test acc is 0.7400,\n",
      "test precision is 0.7400, test recall is 1.0000, test f1 is 0.8506.\n"
     ]
    },
    {
     "name": "stderr",
     "output_type": "stream",
     "text": [
      "100%|██████████| 57/57 [00:08<00:00,  6.63it/s]\n",
      "  2%|▏         | 1/57 [00:00<00:09,  6.01it/s]"
     ]
    },
    {
     "name": "stdout",
     "output_type": "stream",
     "text": [
      "Epoch 5, train loss is 0.6186, train acc is 0.6946, test loss is 0.5733, test acc is 0.7400,\n",
      "test precision is 0.7400, test recall is 1.0000, test f1 is 0.8506.\n"
     ]
    },
    {
     "name": "stderr",
     "output_type": "stream",
     "text": [
      "100%|██████████| 57/57 [00:08<00:00,  6.49it/s]\n",
      "  2%|▏         | 1/57 [00:00<00:08,  6.64it/s]"
     ]
    },
    {
     "name": "stdout",
     "output_type": "stream",
     "text": [
      "Epoch 6, train loss is 0.6153, train acc is 0.6979, test loss is 0.5732, test acc is 0.7400,\n",
      "test precision is 0.7400, test recall is 1.0000, test f1 is 0.8506.\n"
     ]
    },
    {
     "name": "stderr",
     "output_type": "stream",
     "text": [
      "100%|██████████| 57/57 [00:09<00:00,  6.30it/s]\n",
      "  2%|▏         | 1/57 [00:00<00:07,  7.18it/s]"
     ]
    },
    {
     "name": "stdout",
     "output_type": "stream",
     "text": [
      "Epoch 7, train loss is 0.4745, train acc is 0.8350, test loss is 0.3889, test acc is 0.9050,\n",
      "test precision is 0.9510, test recall is 0.9189, test f1 is 0.9347.\n"
     ]
    },
    {
     "name": "stderr",
     "output_type": "stream",
     "text": [
      "100%|██████████| 57/57 [00:08<00:00,  6.47it/s]\n",
      "  2%|▏         | 1/57 [00:00<00:09,  5.98it/s]"
     ]
    },
    {
     "name": "stdout",
     "output_type": "stream",
     "text": [
      "Epoch 8, train loss is 0.3923, train acc is 0.9145, test loss is 0.3951, test acc is 0.9150,\n",
      "test precision is 0.9781, test recall is 0.9054, test f1 is 0.9404.\n"
     ]
    },
    {
     "name": "stderr",
     "output_type": "stream",
     "text": [
      "100%|██████████| 57/57 [00:08<00:00,  6.60it/s]\n",
      "  2%|▏         | 1/57 [00:00<00:09,  5.73it/s]"
     ]
    },
    {
     "name": "stdout",
     "output_type": "stream",
     "text": [
      "Epoch 9, train loss is 0.3943, train acc is 0.9156, test loss is 0.3747, test acc is 0.9400,\n",
      "test precision is 0.9789, test recall is 0.9392, test f1 is 0.9586.\n"
     ]
    },
    {
     "name": "stderr",
     "output_type": "stream",
     "text": [
      "100%|██████████| 57/57 [00:08<00:00,  6.46it/s]\n",
      "  2%|▏         | 1/57 [00:00<00:10,  5.41it/s]"
     ]
    },
    {
     "name": "stdout",
     "output_type": "stream",
     "text": [
      "Epoch 10, train loss is 0.3817, train acc is 0.9298, test loss is 0.3722, test acc is 0.9350,\n",
      "test precision is 0.9720, test recall is 0.9392, test f1 is 0.9553.\n"
     ]
    },
    {
     "name": "stderr",
     "output_type": "stream",
     "text": [
      "100%|██████████| 57/57 [00:08<00:00,  6.47it/s]\n",
      "  2%|▏         | 1/57 [00:00<00:08,  6.36it/s]"
     ]
    },
    {
     "name": "stdout",
     "output_type": "stream",
     "text": [
      "Epoch 11, train loss is 0.3814, train acc is 0.9293, test loss is 0.3523, test acc is 0.9600,\n",
      "test precision is 0.9730, test recall is 0.9730, test f1 is 0.9730.\n"
     ]
    },
    {
     "name": "stderr",
     "output_type": "stream",
     "text": [
      "100%|██████████| 57/57 [00:08<00:00,  6.50it/s]\n",
      "  2%|▏         | 1/57 [00:00<00:09,  5.62it/s]"
     ]
    },
    {
     "name": "stdout",
     "output_type": "stream",
     "text": [
      "Epoch 12, train loss is 0.3663, train acc is 0.9446, test loss is 0.3619, test acc is 0.9500,\n",
      "test precision is 0.9792, test recall is 0.9527, test f1 is 0.9658.\n"
     ]
    },
    {
     "name": "stderr",
     "output_type": "stream",
     "text": [
      "100%|██████████| 57/57 [00:08<00:00,  6.53it/s]\n",
      "  2%|▏         | 1/57 [00:00<00:08,  6.28it/s]"
     ]
    },
    {
     "name": "stdout",
     "output_type": "stream",
     "text": [
      "Epoch 13, train loss is 0.3631, train acc is 0.9496, test loss is 0.3542, test acc is 0.9550,\n",
      "test precision is 0.9793, test recall is 0.9595, test f1 is 0.9693.\n"
     ]
    },
    {
     "name": "stderr",
     "output_type": "stream",
     "text": [
      "100%|██████████| 57/57 [00:08<00:00,  6.61it/s]\n",
      "  2%|▏         | 1/57 [00:00<00:08,  6.58it/s]"
     ]
    },
    {
     "name": "stdout",
     "output_type": "stream",
     "text": [
      "Epoch 14, train loss is 0.3598, train acc is 0.9501, test loss is 0.3527, test acc is 0.9600,\n",
      "test precision is 0.9667, test recall is 0.9797, test f1 is 0.9732.\n"
     ]
    },
    {
     "name": "stderr",
     "output_type": "stream",
     "text": [
      "100%|██████████| 57/57 [00:08<00:00,  6.83it/s]\n",
      "  2%|▏         | 1/57 [00:00<00:10,  5.36it/s]"
     ]
    },
    {
     "name": "stdout",
     "output_type": "stream",
     "text": [
      "Epoch 15, train loss is 0.3615, train acc is 0.9496, test loss is 0.3548, test acc is 0.9550,\n",
      "test precision is 0.9664, test recall is 0.9730, test f1 is 0.9697.\n"
     ]
    },
    {
     "name": "stderr",
     "output_type": "stream",
     "text": [
      "100%|██████████| 57/57 [00:08<00:00,  6.62it/s]\n",
      "  2%|▏         | 1/57 [00:00<00:07,  7.09it/s]"
     ]
    },
    {
     "name": "stdout",
     "output_type": "stream",
     "text": [
      "Epoch 16, train loss is 0.3603, train acc is 0.9507, test loss is 0.3536, test acc is 0.9650,\n",
      "test precision is 0.9796, test recall is 0.9730, test f1 is 0.9763.\n"
     ]
    },
    {
     "name": "stderr",
     "output_type": "stream",
     "text": [
      "100%|██████████| 57/57 [00:08<00:00,  6.70it/s]\n",
      "  2%|▏         | 1/57 [00:00<00:08,  6.45it/s]"
     ]
    },
    {
     "name": "stdout",
     "output_type": "stream",
     "text": [
      "Epoch 17, train loss is 0.3585, train acc is 0.9534, test loss is 0.3766, test acc is 0.9300,\n",
      "test precision is 0.9408, test recall is 0.9662, test f1 is 0.9533.\n"
     ]
    },
    {
     "name": "stderr",
     "output_type": "stream",
     "text": [
      "100%|██████████| 57/57 [00:08<00:00,  6.40it/s]\n",
      "  2%|▏         | 1/57 [00:00<00:08,  6.76it/s]"
     ]
    },
    {
     "name": "stdout",
     "output_type": "stream",
     "text": [
      "Epoch 18, train loss is 0.3569, train acc is 0.9556, test loss is 0.3551, test acc is 0.9550,\n",
      "test precision is 0.9664, test recall is 0.9730, test f1 is 0.9697.\n"
     ]
    },
    {
     "name": "stderr",
     "output_type": "stream",
     "text": [
      "100%|██████████| 57/57 [00:08<00:00,  6.65it/s]\n",
      "  2%|▏         | 1/57 [00:00<00:07,  7.19it/s]"
     ]
    },
    {
     "name": "stdout",
     "output_type": "stream",
     "text": [
      "Epoch 19, train loss is 0.3566, train acc is 0.9523, test loss is 0.3548, test acc is 0.9550,\n",
      "test precision is 0.9793, test recall is 0.9595, test f1 is 0.9693.\n"
     ]
    },
    {
     "name": "stderr",
     "output_type": "stream",
     "text": [
      "100%|██████████| 57/57 [00:08<00:00,  6.58it/s]\n",
      "  2%|▏         | 1/57 [00:00<00:07,  7.52it/s]"
     ]
    },
    {
     "name": "stdout",
     "output_type": "stream",
     "text": [
      "Epoch 20, train loss is 0.3497, train acc is 0.9611, test loss is 0.3661, test acc is 0.9500,\n",
      "test precision is 0.9481, test recall is 0.9865, test f1 is 0.9669.\n"
     ]
    },
    {
     "name": "stderr",
     "output_type": "stream",
     "text": [
      "100%|██████████| 57/57 [00:09<00:00,  6.29it/s]\n",
      "  2%|▏         | 1/57 [00:00<00:08,  6.70it/s]"
     ]
    },
    {
     "name": "stdout",
     "output_type": "stream",
     "text": [
      "Epoch 21, train loss is 0.3476, train acc is 0.9627, test loss is 0.3531, test acc is 0.9600,\n",
      "test precision is 0.9795, test recall is 0.9662, test f1 is 0.9728.\n"
     ]
    },
    {
     "name": "stderr",
     "output_type": "stream",
     "text": [
      "100%|██████████| 57/57 [00:08<00:00,  6.67it/s]\n",
      "  2%|▏         | 1/57 [00:00<00:09,  5.92it/s]"
     ]
    },
    {
     "name": "stdout",
     "output_type": "stream",
     "text": [
      "Epoch 22, train loss is 0.3525, train acc is 0.9583, test loss is 0.3552, test acc is 0.9550,\n",
      "test precision is 0.9793, test recall is 0.9595, test f1 is 0.9693.\n"
     ]
    },
    {
     "name": "stderr",
     "output_type": "stream",
     "text": [
      "100%|██████████| 57/57 [00:08<00:00,  6.52it/s]\n",
      "  2%|▏         | 1/57 [00:00<00:10,  5.57it/s]"
     ]
    },
    {
     "name": "stdout",
     "output_type": "stream",
     "text": [
      "Epoch 23, train loss is 0.3517, train acc is 0.9611, test loss is 0.3517, test acc is 0.9650,\n",
      "test precision is 0.9732, test recall is 0.9797, test f1 is 0.9764.\n"
     ]
    },
    {
     "name": "stderr",
     "output_type": "stream",
     "text": [
      "100%|██████████| 57/57 [00:08<00:00,  6.51it/s]\n",
      "  2%|▏         | 1/57 [00:00<00:08,  6.86it/s]"
     ]
    },
    {
     "name": "stdout",
     "output_type": "stream",
     "text": [
      "Epoch 24, train loss is 0.3496, train acc is 0.9616, test loss is 0.3514, test acc is 0.9650,\n",
      "test precision is 0.9862, test recall is 0.9662, test f1 is 0.9761.\n"
     ]
    },
    {
     "name": "stderr",
     "output_type": "stream",
     "text": [
      "100%|██████████| 57/57 [00:08<00:00,  6.59it/s]\n",
      "  2%|▏         | 1/57 [00:00<00:09,  5.95it/s]"
     ]
    },
    {
     "name": "stdout",
     "output_type": "stream",
     "text": [
      "Epoch 25, train loss is 0.3413, train acc is 0.9715, test loss is 0.3454, test acc is 0.9700,\n",
      "test precision is 0.9863, test recall is 0.9730, test f1 is 0.9796.\n"
     ]
    },
    {
     "name": "stderr",
     "output_type": "stream",
     "text": [
      "100%|██████████| 57/57 [00:08<00:00,  6.66it/s]\n",
      "  2%|▏         | 1/57 [00:00<00:09,  5.86it/s]"
     ]
    },
    {
     "name": "stdout",
     "output_type": "stream",
     "text": [
      "Epoch 26, train loss is 0.3451, train acc is 0.9671, test loss is 0.3516, test acc is 0.9600,\n",
      "test precision is 0.9861, test recall is 0.9595, test f1 is 0.9726.\n"
     ]
    },
    {
     "name": "stderr",
     "output_type": "stream",
     "text": [
      "100%|██████████| 57/57 [00:08<00:00,  6.58it/s]\n",
      "  2%|▏         | 1/57 [00:00<00:09,  5.61it/s]"
     ]
    },
    {
     "name": "stdout",
     "output_type": "stream",
     "text": [
      "Epoch 27, train loss is 0.3428, train acc is 0.9693, test loss is 0.3558, test acc is 0.9550,\n",
      "test precision is 0.9860, test recall is 0.9527, test f1 is 0.9691.\n"
     ]
    },
    {
     "name": "stderr",
     "output_type": "stream",
     "text": [
      "100%|██████████| 57/57 [00:08<00:00,  6.62it/s]\n",
      "  2%|▏         | 1/57 [00:00<00:07,  7.06it/s]"
     ]
    },
    {
     "name": "stdout",
     "output_type": "stream",
     "text": [
      "Epoch 28, train loss is 0.3498, train acc is 0.9622, test loss is 0.3476, test acc is 0.9700,\n",
      "test precision is 0.9863, test recall is 0.9730, test f1 is 0.9796.\n"
     ]
    },
    {
     "name": "stderr",
     "output_type": "stream",
     "text": [
      "100%|██████████| 57/57 [00:08<00:00,  6.68it/s]\n",
      "  2%|▏         | 1/57 [00:00<00:07,  7.23it/s]"
     ]
    },
    {
     "name": "stdout",
     "output_type": "stream",
     "text": [
      "Epoch 29, train loss is 0.3377, train acc is 0.9748, test loss is 0.3550, test acc is 0.9550,\n",
      "test precision is 0.9603, test recall is 0.9797, test f1 is 0.9699.\n"
     ]
    },
    {
     "name": "stderr",
     "output_type": "stream",
     "text": [
      "100%|██████████| 57/57 [00:08<00:00,  6.54it/s]\n",
      "  2%|▏         | 1/57 [00:00<00:08,  6.67it/s]"
     ]
    },
    {
     "name": "stdout",
     "output_type": "stream",
     "text": [
      "Epoch 30, train loss is 0.3355, train acc is 0.9775, test loss is 0.3609, test acc is 0.9500,\n",
      "test precision is 0.9662, test recall is 0.9662, test f1 is 0.9662.\n"
     ]
    },
    {
     "name": "stderr",
     "output_type": "stream",
     "text": [
      "100%|██████████| 57/57 [00:08<00:00,  6.66it/s]\n",
      "  2%|▏         | 1/57 [00:00<00:10,  5.20it/s]"
     ]
    },
    {
     "name": "stdout",
     "output_type": "stream",
     "text": [
      "Epoch 31, train loss is 0.3306, train acc is 0.9830, test loss is 0.3509, test acc is 0.9600,\n",
      "test precision is 0.9861, test recall is 0.9595, test f1 is 0.9726.\n"
     ]
    },
    {
     "name": "stderr",
     "output_type": "stream",
     "text": [
      "100%|██████████| 57/57 [00:08<00:00,  6.65it/s]\n",
      "  2%|▏         | 1/57 [00:00<00:08,  6.31it/s]"
     ]
    },
    {
     "name": "stdout",
     "output_type": "stream",
     "text": [
      "Epoch 32, train loss is 0.3416, train acc is 0.9709, test loss is 0.3526, test acc is 0.9600,\n",
      "test precision is 0.9667, test recall is 0.9797, test f1 is 0.9732.\n"
     ]
    },
    {
     "name": "stderr",
     "output_type": "stream",
     "text": [
      "100%|██████████| 57/57 [00:08<00:00,  6.67it/s]\n",
      "  2%|▏         | 1/57 [00:00<00:08,  6.32it/s]"
     ]
    },
    {
     "name": "stdout",
     "output_type": "stream",
     "text": [
      "Epoch 33, train loss is 0.3401, train acc is 0.9737, test loss is 0.3475, test acc is 0.9700,\n",
      "test precision is 0.9931, test recall is 0.9662, test f1 is 0.9795.\n"
     ]
    },
    {
     "name": "stderr",
     "output_type": "stream",
     "text": [
      "100%|██████████| 57/57 [00:08<00:00,  6.53it/s]\n",
      "  2%|▏         | 1/57 [00:00<00:07,  7.12it/s]"
     ]
    },
    {
     "name": "stdout",
     "output_type": "stream",
     "text": [
      "Epoch 34, train loss is 0.3358, train acc is 0.9770, test loss is 0.3561, test acc is 0.9550,\n",
      "test precision is 0.9929, test recall is 0.9459, test f1 is 0.9689.\n"
     ]
    },
    {
     "name": "stderr",
     "output_type": "stream",
     "text": [
      "100%|██████████| 57/57 [00:08<00:00,  6.66it/s]\n",
      "  2%|▏         | 1/57 [00:00<00:08,  6.34it/s]"
     ]
    },
    {
     "name": "stdout",
     "output_type": "stream",
     "text": [
      "Epoch 35, train loss is 0.3425, train acc is 0.9704, test loss is 0.3496, test acc is 0.9600,\n",
      "test precision is 0.9795, test recall is 0.9662, test f1 is 0.9728.\n"
     ]
    },
    {
     "name": "stderr",
     "output_type": "stream",
     "text": [
      "100%|██████████| 57/57 [00:08<00:00,  6.78it/s]\n",
      "  2%|▏         | 1/57 [00:00<00:09,  5.64it/s]"
     ]
    },
    {
     "name": "stdout",
     "output_type": "stream",
     "text": [
      "Epoch 36, train loss is 0.3356, train acc is 0.9786, test loss is 0.3514, test acc is 0.9600,\n",
      "test precision is 0.9730, test recall is 0.9730, test f1 is 0.9730.\n"
     ]
    },
    {
     "name": "stderr",
     "output_type": "stream",
     "text": [
      "100%|██████████| 57/57 [00:08<00:00,  6.71it/s]\n",
      "  2%|▏         | 1/57 [00:00<00:08,  6.46it/s]"
     ]
    },
    {
     "name": "stdout",
     "output_type": "stream",
     "text": [
      "Epoch 37, train loss is 0.3361, train acc is 0.9748, test loss is 0.3514, test acc is 0.9600,\n",
      "test precision is 0.9667, test recall is 0.9797, test f1 is 0.9732.\n"
     ]
    },
    {
     "name": "stderr",
     "output_type": "stream",
     "text": [
      "100%|██████████| 57/57 [00:08<00:00,  6.55it/s]\n",
      "  2%|▏         | 1/57 [00:00<00:07,  7.21it/s]"
     ]
    },
    {
     "name": "stdout",
     "output_type": "stream",
     "text": [
      "Epoch 38, train loss is 0.3365, train acc is 0.9759, test loss is 0.3542, test acc is 0.9550,\n",
      "test precision is 0.9793, test recall is 0.9595, test f1 is 0.9693.\n"
     ]
    },
    {
     "name": "stderr",
     "output_type": "stream",
     "text": [
      "100%|██████████| 57/57 [00:08<00:00,  6.45it/s]\n",
      "  2%|▏         | 1/57 [00:00<00:08,  6.85it/s]"
     ]
    },
    {
     "name": "stdout",
     "output_type": "stream",
     "text": [
      "Epoch 39, train loss is 0.3389, train acc is 0.9742, test loss is 0.3478, test acc is 0.9600,\n",
      "test precision is 0.9667, test recall is 0.9797, test f1 is 0.9732.\n"
     ]
    },
    {
     "name": "stderr",
     "output_type": "stream",
     "text": [
      "100%|██████████| 57/57 [00:08<00:00,  6.52it/s]\n",
      "  2%|▏         | 1/57 [00:00<00:10,  5.13it/s]"
     ]
    },
    {
     "name": "stdout",
     "output_type": "stream",
     "text": [
      "Epoch 40, train loss is 0.3323, train acc is 0.9808, test loss is 0.3502, test acc is 0.9600,\n",
      "test precision is 0.9605, test recall is 0.9865, test f1 is 0.9733.\n"
     ]
    },
    {
     "name": "stderr",
     "output_type": "stream",
     "text": [
      "100%|██████████| 57/57 [00:08<00:00,  6.72it/s]\n",
      "  2%|▏         | 1/57 [00:00<00:07,  7.28it/s]"
     ]
    },
    {
     "name": "stdout",
     "output_type": "stream",
     "text": [
      "Epoch 41, train loss is 0.3325, train acc is 0.9803, test loss is 0.3478, test acc is 0.9600,\n",
      "test precision is 0.9667, test recall is 0.9797, test f1 is 0.9732.\n"
     ]
    },
    {
     "name": "stderr",
     "output_type": "stream",
     "text": [
      "100%|██████████| 57/57 [00:08<00:00,  6.67it/s]\n",
      "  2%|▏         | 1/57 [00:00<00:07,  7.20it/s]"
     ]
    },
    {
     "name": "stdout",
     "output_type": "stream",
     "text": [
      "Epoch 42, train loss is 0.3290, train acc is 0.9841, test loss is 0.3479, test acc is 0.9650,\n",
      "test precision is 0.9669, test recall is 0.9865, test f1 is 0.9766.\n"
     ]
    },
    {
     "name": "stderr",
     "output_type": "stream",
     "text": [
      "100%|██████████| 57/57 [00:08<00:00,  6.52it/s]\n",
      "  2%|▏         | 1/57 [00:00<00:09,  6.09it/s]"
     ]
    },
    {
     "name": "stdout",
     "output_type": "stream",
     "text": [
      "Epoch 43, train loss is 0.3335, train acc is 0.9792, test loss is 0.3535, test acc is 0.9600,\n",
      "test precision is 0.9730, test recall is 0.9730, test f1 is 0.9730.\n"
     ]
    },
    {
     "name": "stderr",
     "output_type": "stream",
     "text": [
      "100%|██████████| 57/57 [00:08<00:00,  6.82it/s]\n",
      "  2%|▏         | 1/57 [00:00<00:08,  6.97it/s]"
     ]
    },
    {
     "name": "stdout",
     "output_type": "stream",
     "text": [
      "Epoch 44, train loss is 0.3476, train acc is 0.9638, test loss is 0.3489, test acc is 0.9600,\n",
      "test precision is 0.9861, test recall is 0.9595, test f1 is 0.9726.\n"
     ]
    },
    {
     "name": "stderr",
     "output_type": "stream",
     "text": [
      "100%|██████████| 57/57 [00:08<00:00,  6.45it/s]\n",
      "  2%|▏         | 1/57 [00:00<00:10,  5.48it/s]"
     ]
    },
    {
     "name": "stdout",
     "output_type": "stream",
     "text": [
      "Epoch 45, train loss is 0.3292, train acc is 0.9846, test loss is 0.3565, test acc is 0.9550,\n",
      "test precision is 0.9603, test recall is 0.9797, test f1 is 0.9699.\n"
     ]
    },
    {
     "name": "stderr",
     "output_type": "stream",
     "text": [
      "100%|██████████| 57/57 [00:09<00:00,  6.21it/s]\n",
      "  2%|▏         | 1/57 [00:00<00:07,  7.03it/s]"
     ]
    },
    {
     "name": "stdout",
     "output_type": "stream",
     "text": [
      "Epoch 46, train loss is 0.3303, train acc is 0.9825, test loss is 0.3763, test acc is 0.9350,\n",
      "test precision is 0.9299, test recall is 0.9865, test f1 is 0.9574.\n"
     ]
    },
    {
     "name": "stderr",
     "output_type": "stream",
     "text": [
      "100%|██████████| 57/57 [00:08<00:00,  6.67it/s]\n",
      "  2%|▏         | 1/57 [00:00<00:08,  6.48it/s]"
     ]
    },
    {
     "name": "stdout",
     "output_type": "stream",
     "text": [
      "Epoch 47, train loss is 0.3295, train acc is 0.9836, test loss is 0.3630, test acc is 0.9500,\n",
      "test precision is 0.9539, test recall is 0.9797, test f1 is 0.9667.\n"
     ]
    },
    {
     "name": "stderr",
     "output_type": "stream",
     "text": [
      "100%|██████████| 57/57 [00:08<00:00,  6.57it/s]\n",
      "  2%|▏         | 1/57 [00:00<00:08,  6.33it/s]"
     ]
    },
    {
     "name": "stdout",
     "output_type": "stream",
     "text": [
      "Epoch 48, train loss is 0.3337, train acc is 0.9792, test loss is 0.3737, test acc is 0.9350,\n",
      "test precision is 0.9245, test recall is 0.9932, test f1 is 0.9577.\n"
     ]
    },
    {
     "name": "stderr",
     "output_type": "stream",
     "text": [
      "100%|██████████| 57/57 [00:08<00:00,  6.56it/s]\n",
      "  2%|▏         | 1/57 [00:00<00:08,  6.63it/s]"
     ]
    },
    {
     "name": "stdout",
     "output_type": "stream",
     "text": [
      "Epoch 49, train loss is 0.3342, train acc is 0.9786, test loss is 0.3522, test acc is 0.9600,\n",
      "test precision is 0.9730, test recall is 0.9730, test f1 is 0.9730.\n"
     ]
    },
    {
     "name": "stderr",
     "output_type": "stream",
     "text": [
      "100%|██████████| 57/57 [00:08<00:00,  6.53it/s]\n"
     ]
    },
    {
     "name": "stdout",
     "output_type": "stream",
     "text": [
      "Epoch 50, train loss is 0.3303, train acc is 0.9830, test loss is 0.3551, test acc is 0.9600,\n",
      "test precision is 0.9545, test recall is 0.9932, test f1 is 0.9735.\n"
     ]
    }
   ],
   "source": [
    "max_test_acc = 0\n",
    "for epoch in range(config.max_epoch):\n",
    "    model.train()\n",
    "    total_loss = []\n",
    "    total_acc = []\n",
    "    for data in tqdm(trainloader):\n",
    "        data_input,label = data\n",
    "\n",
    "        data_input = data_input.to(torch.float32).to(device)\n",
    "        label = label.to(device)\n",
    "        output = model(data_input)\n",
    "        loss = criterion(output,label)\n",
    "        total_loss.append(loss.data.cpu().numpy())\n",
    "        optimizer.zero_grad()\n",
    "        loss.backward()\n",
    "        optimizer.step()\n",
    "        y_ = output.data.cpu().numpy()\n",
    "        y_ = np.argmax(y_,axis = 1)\n",
    "        label = label.data.cpu().numpy()\n",
    "        total_acc.append(accuracy_score(label, y_))\n",
    "    train_loss = np.mean(total_loss)\n",
    "    train_acc = np.mean(total_acc)\n",
    "\n",
    "    model.eval()    \n",
    "    total_loss = []\n",
    "    total_acc = []\n",
    "    total_precision = []\n",
    "    total_recall = []\n",
    "    total_f1 = []\n",
    "    for data in testloader:\n",
    "        data_input,label = data\n",
    "        data_input = data_input.to(torch.float32).to(device)\n",
    "        label = label.to(device)\n",
    "        output = model(data_input)\n",
    "        loss = criterion(output,label).cpu().detach().numpy()\n",
    "        total_loss.append(loss)\n",
    "        y_ = output.data.cpu().numpy()\n",
    "        y_ = np.argmax(y_,axis = 1)\n",
    "        label = label.data.cpu().numpy()\n",
    "        total_precision.append(precision_score(label, y_))\n",
    "        total_recall.append(recall_score(label, y_))\n",
    "        total_f1.append(f1_score(label, y_))\n",
    "        total_acc.append(accuracy_score(label, y_))\n",
    "    test_loss = np.mean(total_loss)\n",
    "    test_acc = np.mean(total_acc)\n",
    "    test_precision = np.mean(total_precision)\n",
    "    test_recall = np.mean(total_recall)\n",
    "    test_f1 = np.mean(total_f1)\n",
    "\n",
    "    if test_acc > max_test_acc:\n",
    "        torch.save(model.state_dict(), config.save_path)\n",
    "        max_test_acc = test_acc\n",
    "    \n",
    "    print(f\"Epoch {epoch+1}, train loss is {train_loss:.4f}, train acc is {train_acc:.4f}, test loss is {test_loss:.4f}, test acc is {test_acc:.4f},\")\n",
    "    print(f\"test precision is {test_precision:.4f}, test recall is {test_recall:.4f}, test f1 is {test_f1:.4f}.\")"
   ]
  },
  {
   "cell_type": "code",
   "execution_count": 10,
   "metadata": {},
   "outputs": [
    {
     "data": {
      "text/plain": [
       "<All keys matched successfully>"
      ]
     },
     "execution_count": 10,
     "metadata": {},
     "output_type": "execute_result"
    }
   ],
   "source": [
    "model.load_state_dict(torch.load(config.save_dir))"
   ]
  },
  {
   "cell_type": "code",
   "execution_count": 11,
   "metadata": {},
   "outputs": [
    {
     "name": "stdout",
     "output_type": "stream",
     "text": [
      "test loss is 0.3454, test acc is 0.9700, test precision is 0.9863, test recall is 0.9730, test f1 is 0.9796.\n",
      "test confusion matrix:\n",
      "[[ 50   4]\n",
      " [  2 144]]\n"
     ]
    }
   ],
   "source": [
    "model.eval()    \n",
    "total_loss = []\n",
    "total_acc = []\n",
    "total_precision = []\n",
    "total_recall = []\n",
    "total_f1 = []\n",
    "total_y = []\n",
    "total_label = []\n",
    "for data in testloader:\n",
    "    data_input,label = data\n",
    "    data_input = data_input.to(torch.float32).to(device)\n",
    "    label = label.to(device)\n",
    "    output = model(data_input)\n",
    "    loss = criterion(output,label).cpu().detach().numpy()\n",
    "    total_loss.append(loss)\n",
    "    y_ = output.data.cpu().numpy()\n",
    "    y_ = np.argmax(y_,axis = 1)\n",
    "    label = label.data.cpu().numpy()\n",
    "    total_precision.append(precision_score(label, y_))\n",
    "    total_recall.append(recall_score(label, y_))\n",
    "    total_f1.append(f1_score(label, y_))\n",
    "    total_acc.append(accuracy_score(label, y_))\n",
    "    total_y.extend(list(y_))\n",
    "    total_label.extend(list(label))\n",
    "test_loss = np.mean(total_loss)\n",
    "test_acc = np.mean(total_acc)\n",
    "test_precision = np.mean(total_precision)\n",
    "test_recall = np.mean(total_recall)\n",
    "test_f1 = np.mean(total_f1)\n",
    "print(f\"test loss is {test_loss:.4f}, test acc is {test_acc:.4f}, test precision is {test_precision:.4f}, test recall is {test_recall:.4f}, test f1 is {test_f1:.4f}.\")\n",
    "print(\"test confusion matrix:\")\n",
    "print(confusion_matrix(total_y, total_label))"
   ]
  },
  {
   "cell_type": "code",
   "execution_count": 12,
   "metadata": {},
   "outputs": [],
   "source": [
    "test = AudioTestDataset(config.test_data_dir)"
   ]
  },
  {
   "cell_type": "code",
   "execution_count": 13,
   "metadata": {},
   "outputs": [],
   "source": [
    "testloader = DataLoader(test, batch_size = config.test_batch_size, shuffle=False)"
   ]
  },
  {
   "cell_type": "code",
   "execution_count": 14,
   "metadata": {},
   "outputs": [],
   "source": [
    "model.eval()\n",
    "total_y = []\n",
    "df = pd.read_excel(config.test_data_dir)\n",
    "filename = list(df['filename'])\n",
    "bf = list(df['bf'])\n",
    "for data in testloader:\n",
    "    data = data.to(torch.float32).to(device)\n",
    "    output = model(data)\n",
    "    y_ = output.data.cpu().numpy()\n",
    "    y_ = np.argmax(y_,axis = 1)\n",
    "    total_y.extend(list(y_))\n",
    "l = []\n",
    "for i in range(df.shape[0]):\n",
    "    l.append([filename[i],total_y[i], bf[i]])"
   ]
  },
  {
   "cell_type": "code",
   "execution_count": 15,
   "metadata": {},
   "outputs": [],
   "source": [
    "res = pd.DataFrame(l, columns=['filename', 'label', 'bf'])\n",
    "res.to_excel(config.test_data_dir, index=None)"
   ]
  },
  {
   "cell_type": "code",
   "execution_count": 16,
   "metadata": {},
   "outputs": [],
   "source": [
    "df = pd.read_excel(config.test_fill_dir)\n",
    "filename = list(df['filename'])\n",
    "l = []\n",
    "for i in range(df.shape[0]):\n",
    "    l.append([filename[i],total_y[i]])"
   ]
  },
  {
   "cell_type": "code",
   "execution_count": 17,
   "metadata": {},
   "outputs": [],
   "source": [
    "res = pd.DataFrame(l, columns=['filename', 'label'])\n",
    "res.to_excel(config.test_fill_dir, index=None)"
   ]
  }
 ],
 "metadata": {
  "interpreter": {
   "hash": "a8f61be024eba58adef938c9aa1e29e02cb3dece83a5348b1a2dafd16a070453"
  },
  "kernelspec": {
   "display_name": "Python 3.8.3 64-bit ('base': conda)",
   "language": "python",
   "name": "python3"
  },
  "language_info": {
   "codemirror_mode": {
    "name": "ipython",
    "version": 3
   },
   "file_extension": ".py",
   "mimetype": "text/x-python",
   "name": "python",
   "nbconvert_exporter": "python",
   "pygments_lexer": "ipython3",
   "version": "3.8.5"
  },
  "orig_nbformat": 4
 },
 "nbformat": 4,
 "nbformat_minor": 2
}
